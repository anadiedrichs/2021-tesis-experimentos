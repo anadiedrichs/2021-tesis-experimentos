{
  "nbformat": 4,
  "nbformat_minor": 0,
  "metadata": {
    "colab": {
      "name": "regresion-lineal-keras.ipynb",
      "private_outputs": true,
      "provenance": [],
      "authorship_tag": "ABX9TyM2MmUe7SuOpvEBU+vlBfly",
      "include_colab_link": true
    },
    "kernelspec": {
      "name": "ir",
      "display_name": "R"
    }
  },
  "cells": [
    {
      "cell_type": "markdown",
      "metadata": {
        "id": "view-in-github",
        "colab_type": "text"
      },
      "source": [
        "<a href=\"https://colab.research.google.com/github/anadiedrichs/2021-tesis-experimentos/blob/main/tutorials/keras_sample_weight/regresion_lineal_keras.ipynb\" target=\"_parent\"><img src=\"https://colab.research.google.com/assets/colab-badge.svg\" alt=\"Open In Colab\"/></a>"
      ]
    },
    {
      "cell_type": "markdown",
      "metadata": {
        "id": "rankMi7MeDzB"
      },
      "source": [
        "# Regresión lineal en keras\n",
        "## Librerias"
      ]
    },
    {
      "cell_type": "code",
      "metadata": {
        "id": "Qs6lZLICdv_e"
      },
      "source": [
        "install.packages(\"keras\")"
      ],
      "execution_count": null,
      "outputs": []
    },
    {
      "cell_type": "code",
      "metadata": {
        "id": "qN8FGBG_eRM4"
      },
      "source": [
        "library(keras)"
      ],
      "execution_count": null,
      "outputs": []
    },
    {
      "cell_type": "code",
      "metadata": {
        "id": "hrvlmnZUd3kO"
      },
      "source": [
        "library(tidyverse)"
      ],
      "execution_count": null,
      "outputs": []
    },
    {
      "cell_type": "markdown",
      "metadata": {
        "id": "J4vOc3L7eX1A"
      },
      "source": [
        "## Primer ejemplo\n",
        "\n",
        "Tomado de https://www.datatechnotes.com/2019/01/regression-example-with-keras-in-r.html"
      ]
    },
    {
      "cell_type": "markdown",
      "metadata": {
        "id": "W14EdAXhee7h"
      },
      "source": [
        "### Dataset "
      ]
    },
    {
      "cell_type": "code",
      "metadata": {
        "id": "0ByHetqQeDA3"
      },
      "source": [
        "set.seed(123)\n",
        "N = 450\n",
        "n = seq(1:N)\n",
        "a = n/10+4*sin(n/10)+sample(-1:6,N,replace=T)+rnorm(N)\n",
        "b = n/8+4*sin(n/10)+sample(-3:3,N,replace=T)+rnorm(N) \n",
        "c = n/6+4*sin(n/10)+sample(-5:1,N,replace=T)+rnorm(N)\n",
        "y = (a+b+c)/3+rnorm(N)\n",
        " \n",
        "plot(n, c, col=\"orange\", pch=20, cex=.9)\n",
        "points(n, a, col=\"blue\", pch=20, cex=.9)\n",
        "points(n, b, col=\"green\", pch=20, cex=.9)\n",
        "points(n, y, col=\"red\", type = \"l\",lwd=2)"
      ],
      "execution_count": null,
      "outputs": []
    },
    {
      "cell_type": "code",
      "metadata": {
        "id": "EMHtnwnBemmB"
      },
      "source": [
        "x = as.matrix(data.frame(a,b,c))\n",
        "y = as.matrix(y)\n",
        "head(x)"
      ],
      "execution_count": null,
      "outputs": []
    },
    {
      "cell_type": "code",
      "metadata": {
        "id": "KqR69O5Wex3u"
      },
      "source": [
        "model = keras_model_sequential() %>% \n",
        "   layer_dense(units=64, activation=\"relu\", input_shape=3) %>% \n",
        "   layer_dense(units=32, activation = \"relu\") %>% \n",
        "   layer_dense(units=1, activation=\"linear\")\n",
        " \n",
        "model %>% compile(\n",
        "   loss = \"mse\",\n",
        "   optimizer =  \"adam\", \n",
        "   metrics = list(\"mean_absolute_error\")\n",
        " )\n",
        " \n",
        "model %>% summary()"
      ],
      "execution_count": null,
      "outputs": []
    },
    {
      "cell_type": "code",
      "metadata": {
        "id": "_MwF7p2pe2cA"
      },
      "source": [
        "model %>% fit(x, y, epochs = 100,verbose = 0)\n",
        " \n",
        "scores = model %>% evaluate(x, y, verbose = 0)\n",
        "print(scores)"
      ],
      "execution_count": null,
      "outputs": []
    },
    {
      "cell_type": "code",
      "metadata": {
        "id": "VIesqffze7DQ"
      },
      "source": [
        "y_pred = model %>% predict(x)\n",
        "\n",
        "x_axes = seq(1:length(y_pred))\n",
        "plot(x_axes, y, type=\"l\", col=\"red\")\n",
        "lines(x_axes, y_pred, col=\"blue\")\n",
        "legend(\"topleft\", legend=c(\"y-original\", \"y-predicted\"),\n",
        "        col=c(\"red\", \"blue\"), lty=1,cex=0.8)"
      ],
      "execution_count": null,
      "outputs": []
    },
    {
      "cell_type": "markdown",
      "metadata": {
        "id": "D9kEUxAze7z4"
      },
      "source": [
        "Ahora evaluamos la predicción en el conjunto de testeo"
      ]
    },
    {
      "cell_type": "code",
      "metadata": {
        "id": "YtT1gRCyfL2a"
      },
      "source": [
        "train_x = x[1:400,]\n",
        "test_x = x[401:N,]\n",
        " \n",
        "train_y = y[1:400]\n",
        "test_y = y[401:N]\n",
        " \n",
        "model %>% fit(train_x,train_y,epochs = 100,verbose = 0,sample_weight = rep(1,400),)\n",
        "y_pred = model %>% predict(test_x)"
      ],
      "execution_count": null,
      "outputs": []
    },
    {
      "cell_type": "code",
      "metadata": {
        "id": "Ko8cWuHxgtHN"
      },
      "source": [
        "help(rep)"
      ],
      "execution_count": null,
      "outputs": []
    },
    {
      "cell_type": "code",
      "metadata": {
        "id": "TNTtH2wJfXQX"
      },
      "source": [
        "x_axes = seq(1:length(y_pred))\n",
        "plot(x_axes, test_y, col=\"red\", type=\"l\")\n",
        "lines(x_axes, y_pred, col=\"blue\")\n",
        "legend(\"topleft\", legend=c(\"y-original\", \"y-predicted\"),\n",
        "        col=c(\"red\", \"blue\"), lty=1,cex=0.8)"
      ],
      "execution_count": null,
      "outputs": []
    },
    {
      "cell_type": "markdown",
      "metadata": {
        "id": "5W7UgAXUecEQ"
      },
      "source": [
        "## Segundo ejemplo\n",
        "\n",
        "tomado de https://www.petervanney.com/2019/08/17/r-tensorflow-and-keras-regression/\n",
        "\n",
        "\n",
        "### librerias"
      ]
    },
    {
      "cell_type": "code",
      "metadata": {
        "id": "Y_leih3FiXfn"
      },
      "source": [
        "install.packages(\"recipes\")"
      ],
      "execution_count": null,
      "outputs": []
    },
    {
      "cell_type": "code",
      "metadata": {
        "id": "ET6jFJCQjfAT"
      },
      "source": [
        "install.packages(\"rsample\")"
      ],
      "execution_count": null,
      "outputs": []
    },
    {
      "cell_type": "code",
      "metadata": {
        "id": "-lrjQ9TAjpl5"
      },
      "source": [
        "install.packages(\"yardstick\")"
      ],
      "execution_count": null,
      "outputs": []
    },
    {
      "cell_type": "code",
      "metadata": {
        "id": "OVspiGrFiPpg"
      },
      "source": [
        "library(tidyverse)\n",
        "library(lubridate)\n",
        "library(tensorflow)\n",
        "library(keras)\n",
        "library(recipes)\n",
        "library(rsample)\n",
        "library(yardstick)\n",
        "options(yardstick.event_first = FALSE)"
      ],
      "execution_count": null,
      "outputs": []
    },
    {
      "cell_type": "code",
      "metadata": {
        "id": "cqcsR8IRhV1U"
      },
      "source": [
        "reticulate::py_config()"
      ],
      "execution_count": null,
      "outputs": []
    },
    {
      "cell_type": "markdown",
      "metadata": {
        "id": "rQnT4EPriMhR"
      },
      "source": [
        "### dataset "
      ]
    },
    {
      "cell_type": "code",
      "metadata": {
        "id": "q2GFhRrSiOuw"
      },
      "source": [
        "dataset_path = get_file(\"auto-mpg.data\",\n",
        "                        \"http://archive.ics.uci.edu/ml/machine-learning-databases/auto-mpg/auto-mpg.data\")"
      ],
      "execution_count": null,
      "outputs": []
    },
    {
      "cell_type": "code",
      "metadata": {
        "id": "XcUhrT5ukOA7"
      },
      "source": [
        "dataset_path"
      ],
      "execution_count": null,
      "outputs": []
    },
    {
      "cell_type": "code",
      "metadata": {
        "id": "uh3fFm9bkJvJ"
      },
      "source": [
        "column_names = c('MPG','Cylinders','Displacement','Horsepower','Weight',\n",
        "                'Acceleration', 'Model Year', 'Origin')"
      ],
      "execution_count": null,
      "outputs": []
    },
    {
      "cell_type": "code",
      "metadata": {
        "id": "ise1cCeFkTu8"
      },
      "source": [
        "auto_mpg = read_delim(file = dataset_path, \n",
        "                      col_names = column_names, \n",
        "                      delim = \" \", \n",
        "                      comment = \"\\t\", \n",
        "                      trim_ws = TRUE,\n",
        "                      na = \"?\")"
      ],
      "execution_count": null,
      "outputs": []
    },
    {
      "cell_type": "code",
      "metadata": {
        "id": "22ePXgtckyQ2"
      },
      "source": [
        "head(auto_mpg)"
      ],
      "execution_count": null,
      "outputs": []
    },
    {
      "cell_type": "code",
      "metadata": {
        "id": "Xb-Bp8myk5yA"
      },
      "source": [
        "dataset = auto_mpg %>% \n",
        "  drop_na() %>% \n",
        "  mutate(\"USA\" = if_else(Origin == 1,1,0),\n",
        "         \"Europe\" = if_else(Origin == 2,1,0),\n",
        "         \"Japan\" = if_else(Origin == 3,1,0)) %>% \n",
        "  select(-Origin)\n"
      ],
      "execution_count": null,
      "outputs": []
    },
    {
      "cell_type": "markdown",
      "metadata": {
        "id": "H1MqA26DlNG1"
      },
      "source": [
        "### Training y testing sets"
      ]
    },
    {
      "cell_type": "code",
      "metadata": {
        "id": "bhefMS3Ik_oq"
      },
      "source": [
        "data_split <- initial_split(dataset, prop = 4/5, strata = NULL)\n",
        "training_data <- training(data_split)\n",
        "testing_data <- testing(data_split)"
      ],
      "execution_count": null,
      "outputs": []
    },
    {
      "cell_type": "markdown",
      "metadata": {
        "id": "dYPA-Vsylj95"
      },
      "source": [
        "examine training data "
      ]
    },
    {
      "cell_type": "code",
      "metadata": {
        "id": "QJVs49sKlLXi"
      },
      "source": [
        "panel.hist <- function(x, ...)\n",
        "{\n",
        "  usr <- par(\"usr\"); on.exit(par(usr))\n",
        "  par(usr = c(usr[1:2], 0, 1.5) )\n",
        "  h <- hist(x, plot = FALSE)\n",
        "  breaks <- h$breaks; nB <- length(breaks)\n",
        "  y <- h$counts; y <- y/max(y)\n",
        "  rect(breaks[-nB], 0, breaks[-1], y, col = \"cyan\", ...)\n",
        "}\n",
        "\n",
        "pairs(training_data %>% \n",
        "        select(-USA, -Europe, -Japan), \n",
        "      diag.panel = panel.hist)"
      ],
      "execution_count": null,
      "outputs": []
    },
    {
      "cell_type": "code",
      "metadata": {
        "id": "N-KknLaimV7X"
      },
      "source": [
        "help(hist)"
      ],
      "execution_count": null,
      "outputs": []
    },
    {
      "cell_type": "code",
      "metadata": {
        "id": "W4N1ovqEmuJi"
      },
      "source": [
        "t(summary(training_data, digits = 2))"
      ],
      "execution_count": null,
      "outputs": []
    }
  ]
}